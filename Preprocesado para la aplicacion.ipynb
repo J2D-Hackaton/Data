{
 "cells": [
  {
   "cell_type": "markdown",
   "metadata": {},
   "source": [
    "Este es el codigo de preprocesamiento de los datos para el uso de la aplicacion.\n",
    "\n",
    "Utilizamos las bibliotecas GeoPandas, Pandas, NumPy, Matplotlib y Shapely para trabajar con datos geoespaciales.\n",
    "\n",
    "1. **Función `multipolygon_to_polygons`**: Convierte objetos geométricos `MultiPolygon` en una lista de `Polygon`. Si el objeto no es `MultiPolygon`, genera un error. Esta función es útil para manejar datos geoespaciales complejos al simplificarlos en formas más básicas.\n",
    "\n",
    "2. **Lectura de Datos Geoespaciales**:\n",
    "   - El código lee un archivo geoespacial llamado '2017_vegetacio.gpkg' usando GeoPandas, creando un DataFrame `df_vegetacion`.\n",
    "   - Luego, aplica la función `multipolygon_to_polygons` a cada elemento en la columna 'geometry' del DataFrame. Esto convierte cualquier `MultiPolygon` en `Polygon`, simplificando así la estructura de los datos."
   ]
  },
  {
   "cell_type": "code",
   "execution_count": 1,
   "metadata": {},
   "outputs": [],
   "source": [
    "import geopandas as gpd\n",
    "import pandas as pd\n",
    "import numpy as np\n",
    "import matplotlib.pyplot as plt\n",
    "from shapely.geometry import Polygon, MultiPolygon\n",
    "\n",
    "def multipolygon_to_polygons(geometry):\n",
    "    \"\"\"\n",
    "    Convierte un MultiPolygon en una lista de Polygons.\n",
    "\n",
    "    :param geometry: Un objeto geométrico (Polygon o MultiPolygon).\n",
    "    :return: Una lista de objetos Polygon.\n",
    "    \"\"\"\n",
    "    if isinstance(geometry, MultiPolygon):\n",
    "        return [poly for poly in geometry.geoms][0]\n",
    "    else:\n",
    "        raise TypeError(\"La entrada debe ser un Polygon o MultiPolygon\")\n",
    "    \n",
    "df_vegetacion = gpd.read_file('2017_vegetacio.gpkg')\n",
    "df_vegetacion['polygons'] = df_vegetacion['geometry'].apply(multipolygon_to_polygons)"
   ]
  },
  {
   "cell_type": "markdown",
   "metadata": {},
   "source": [
    "Para cada zona indicada con un Poligono calculamos el centroide."
   ]
  },
  {
   "cell_type": "code",
   "execution_count": 2,
   "metadata": {},
   "outputs": [],
   "source": [
    "# Create the centroid column\n",
    "df_vegetacion['centroide'] = df_vegetacion['polygons'].centroid"
   ]
  },
  {
   "cell_type": "markdown",
   "metadata": {},
   "source": [
    "Ahora asignamos el barrio, districto por cada zona que encontramos en el dataset. Para ello usamos el dataset BarcelonaCiutat_SeccionsCensals.csv que contiene la informacion necesaria."
   ]
  },
  {
   "cell_type": "code",
   "execution_count": 3,
   "metadata": {},
   "outputs": [],
   "source": [
    "df_barris = gpd.read_file('BarcelonaCiutat_SeccionsCensals.csv')\n",
    "gdf_barris = gpd.GeoDataFrame(df_barris, geometry=gpd.GeoSeries.from_wkt(df_barris['geometria_etrs89']))\n",
    "# Create the centroid column\n",
    "gdf_barris['centroide'] = gdf_barris['geometry'].centroid"
   ]
  },
  {
   "cell_type": "markdown",
   "metadata": {},
   "source": [
    "Para saber el barrio al que corresponde cada zona usamos el centroide calculado previamente. Se realiza con los siguientes pasos:\n",
    "\n",
    "1. **Función `encontrar_datos_cercanos`**:\n",
    "   - **Objetivo**: Encuentra el punto más cercano en `gdf_barris` para cada punto en `df_vegetacion`.\n",
    "   - **Entrada**: Una fila (`row`) de `df_vegetacion`.\n",
    "   - **Proceso**:\n",
    "     - Calcula las distancias entre el centroid de `row` y todos los centroides en `gdf_barris`.\n",
    "     - Identifica el punto más cercano en `gdf_barris` y extrae sus datos relevantes (distrito y barrio códigos y nombres, y geometría en formato WGS84).\n",
    "   - **Retorno**: Los datos del punto más cercano.\n",
    "\n",
    "2. **Aplicación de la Función**:\n",
    "   - La función `encontrar_datos_cercanos` se aplica a cada fila de `df_vegetacion` usando `.apply()`.\n",
    "   - Esto genera una serie de datos con la información del punto más cercano para cada fila.\n",
    "\n",
    "3. **Creación de Nuevas Columnas en `df_vegetacion`**:\n",
    "   - Se agregan nuevas columnas a `df_vegetacion` (`codi_districte`, `nom_districte`, `codi_barri`, `nom_barri`, `geometria_wgs84`), rellenadas con la información correspondiente de los puntos más cercanos encontrados en `gdf_barris`.\n",
    "\n",
    "Este proceso enriquece `df_vegetacion` con información detallada de ubicación basada en la proximidad a los puntos en `gdf_barris`, útil para análisis geoespacial más detallado."
   ]
  },
  {
   "cell_type": "code",
   "execution_count": 4,
   "metadata": {},
   "outputs": [],
   "source": [
    "def encontrar_datos_cercanos(row, gdf_barris):\n",
    "    \"\"\"\n",
    "    Encuentra los datos más cercanos (codi_districte, nom_districte, codi_barri, nom_barri, geometria_wgs84) \n",
    "    para un centroid dado en dataset1.\n",
    "    \"\"\"\n",
    "    # Calcula las distancias entre el centroid de la fila actual y todos los centroides en dataset2\n",
    "    distancias = gdf_barris['centroide'].distance(row['centroide'])\n",
    "    \n",
    "    # Encuentra el índice del punto más cercano\n",
    "    indice_minimo = np.argmin(distancias)\n",
    "    \n",
    "    # Retorna los datos correspondientes del punto más cercano\n",
    "    punto_cercano = gdf_barris.iloc[indice_minimo]\n",
    "    return (punto_cercano['codi_districte'], punto_cercano['nom_districte'], \n",
    "            punto_cercano['codi_barri'], punto_cercano['nom_barri'], \n",
    "            punto_cercano['geometria_wgs84'])\n",
    "\n",
    "# Aplicar la función a cada fila de dataset1\n",
    "datos_cercanos = df_vegetacion.apply(lambda row: encontrar_datos_cercanos(row, gdf_barris), axis=1)\n",
    "\n",
    "# Crear nuevas columnas en dataset1\n",
    "df_vegetacion['codi_districte'] = datos_cercanos.apply(lambda x: x[0])\n",
    "df_vegetacion['nom_districte'] = datos_cercanos.apply(lambda x: x[1])\n",
    "df_vegetacion['codi_barri'] = datos_cercanos.apply(lambda x: x[2])\n",
    "df_vegetacion['nom_barri'] = datos_cercanos.apply(lambda x: x[3])\n",
    "df_vegetacion['geometria_wgs84'] = datos_cercanos.apply(lambda x: x[4])"
   ]
  },
  {
   "cell_type": "code",
   "execution_count": 5,
   "metadata": {},
   "outputs": [],
   "source": [
    "df_vegetacion['geometry'] = gpd.GeoSeries.from_wkt(df_vegetacion['geometria_wgs84'])\n",
    "df_vegetacion['centroide'] = df_vegetacion['geometry'].centroid"
   ]
  },
  {
   "cell_type": "markdown",
   "metadata": {},
   "source": [
    "Eliminamos las columnas que no son relevantes."
   ]
  },
  {
   "cell_type": "code",
   "execution_count": 6,
   "metadata": {},
   "outputs": [],
   "source": [
    "df_vegetacion['id'] = df_vegetacion.index\n",
    "df_vegetacion = df_vegetacion.drop(columns=['geometry', 'polygons'])"
   ]
  },
  {
   "cell_type": "markdown",
   "metadata": {},
   "source": [
    "A continuacion integramos los datos que contienene el indice de actuacion al dataset."
   ]
  },
  {
   "cell_type": "code",
   "execution_count": 7,
   "metadata": {},
   "outputs": [],
   "source": [
    "# Read dataset\n",
    "df_index = pd.read_csv('data_act_index.csv')\n",
    "df_vegetacion['ActuacionIndex'] = df_index['ActuacionIndex']\n",
    "df_vegetacion['PercNDVINo'] = df_index['PercNDVINo']\n",
    "df_vegetacion['ndviOn'] = df_index['ndviOn']"
   ]
  },
  {
   "cell_type": "markdown",
   "metadata": {},
   "source": [
    "Modificamos los nombres de las columnas para el backend."
   ]
  },
  {
   "cell_type": "code",
   "execution_count": 8,
   "metadata": {},
   "outputs": [],
   "source": [
    "df_vegetacion = df_vegetacion.rename(columns={\n",
    "    'codi_districte': 'code_district', \n",
    "    'nom_districte': 'name_district', \n",
    "    'codi_barri': 'code_borough', \n",
    "    'nom_barri': 'name_borough', \n",
    "    'ActuacionIndex': 'action_index',\n",
    "    'PercNDVINo': 'vegetation_index',\n",
    "    'ndviOn': 'vulnerability_index'\n",
    "})"
   ]
  },
  {
   "cell_type": "markdown",
   "metadata": {},
   "source": [
    "Pasamos las coordenadas a texto para poderlo exportar."
   ]
  },
  {
   "cell_type": "code",
   "execution_count": 9,
   "metadata": {},
   "outputs": [],
   "source": [
    "def point_to_coordinates(polygon):\n",
    "    \"\"\"\n",
    "    Convierte un punto en coordenadas (x, y).\n",
    "\n",
    "    :param geometry: Un objeto geométrico (Polygon o MultiPolygon).\n",
    "    :return: Una lista de objetos Polygon.\n",
    "    \"\"\"\n",
    "    return (polygon.x, polygon.y)\n",
    "    \n",
    "df_vegetacion['coords'] = df_vegetacion['centroide'].apply(point_to_coordinates)"
   ]
  },
  {
   "cell_type": "markdown",
   "metadata": {},
   "source": [
    "Realizamos el calculo de la media de los valores de los barrios para reducir la cantidad de informacion a visuailzar en el mapa. Seguimos lo siguientes pasos:\n",
    "\n",
    "1. **Selección de Columnas**:\n",
    "   - Se crea un nuevo DataFrame `dataset1` seleccionando ciertas columnas de `df_vegetacion` relacionadas con el distrito, el barrio, índices de vegetación, y coordenadas.\n",
    "\n",
    "2. **Conversión de Tipos de Datos**:\n",
    "   - Las columnas `code_borough` y `code_district` se convierten a enteros para asegurar la consistencia en los tipos de datos.\n",
    "\n",
    "3. **Eliminación de Duplicados**:\n",
    "   - Se crea `dataset1_tmp` eliminando duplicados de `dataset1` basados en `code_borough`, manteniendo solo la primera ocurrencia. Esto resulta en un DataFrame con una única entrada por cada barrio.\n",
    "\n",
    "4. **Selección de Columnas Específicas**:\n",
    "   - `dataset1_tmp2` se crea seleccionando solo algunas columnas de `dataset1_tmp`, enfocándose en el nombre y las coordenadas del barrio, junto con identificadores y detalles del distrito.\n",
    "\n",
    "5. **Creación de Tabla Pivote**:\n",
    "   - `df_boroughs` se crea a partir de `dataset1` como una tabla pivote. Calcula el promedio de 'action_index', 'vegetation_index' y 'vulnerability_index' para cada combinación de `code_borough` y `name_borough`. \n",
    "   - Se restablece el índice para convertir los índices en columnas regulares.\n",
    "\n",
    "6. **Fusión de DataFrames**:\n",
    "   - Finalmente, `df_final` se crea fusionando `df_boroughs` con `dataset1_tmp2` en la columna 'name_borough', utilizando un join tipo 'left'. Esto combina la información promediada por barrio con los detalles específicos del barrio y del distrito."
   ]
  },
  {
   "cell_type": "code",
   "execution_count": null,
   "metadata": {},
   "outputs": [],
   "source": [
    "dataset1 = df_vegetacion[['id', 'name_borough', 'code_borough', 'name_district', 'code_district', 'action_index', 'vegetation_index', 'vulnerability_index', 'coords']]\n",
    "\n",
    "dataset1['code_borough']  = dataset1['code_borough'].astype(int)\n",
    "dataset1['code_district'] = dataset1['code_district'].astype(int)\n",
    "\n",
    "dataset1_tmp = dataset1.drop_duplicates(subset=['code_borough'], keep='first')\n",
    "\n",
    "dataset1_tmp2 =dataset1_tmp[['name_borough', 'coords', 'id', 'name_district', 'code_district']]\n",
    "\n",
    "df_boroughs = dataset1.pivot_table(index=['code_borough', 'name_borough'], values=['action_index', 'vegetation_index', 'vulnerability_index'], aggfunc='mean')\n",
    "df_boroughs = df_boroughs.reset_index()\n",
    "\n",
    "df_final = pd.merge(df_boroughs, dataset1_tmp2, on='name_borough', how='left')"
   ]
  },
  {
   "cell_type": "markdown",
   "metadata": {},
   "source": [
    "Exportamos a JSON."
   ]
  },
  {
   "cell_type": "code",
   "execution_count": null,
   "metadata": {},
   "outputs": [],
   "source": [
    "json_result = df_final.to_json(orient='records')\n",
    "with open('output.json', 'w', encoding='utf8') as f:\n",
    "    f.write(json_result)"
   ]
  }
 ],
 "metadata": {
  "kernelspec": {
   "display_name": "base",
   "language": "python",
   "name": "python3"
  },
  "language_info": {
   "codemirror_mode": {
    "name": "ipython",
    "version": 3
   },
   "file_extension": ".py",
   "mimetype": "text/x-python",
   "name": "python",
   "nbconvert_exporter": "python",
   "pygments_lexer": "ipython3",
   "version": "3.11.4"
  }
 },
 "nbformat": 4,
 "nbformat_minor": 2
}
